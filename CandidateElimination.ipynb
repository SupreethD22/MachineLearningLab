{
 "cells": [
  {
   "cell_type": "code",
   "execution_count": 11,
   "id": "631b4e32-3816-499c-884a-42f68f0c4564",
   "metadata": {},
   "outputs": [],
   "source": [
    "import numpy as np\n",
    "import pandas as pd"
   ]
  },
  {
   "cell_type": "code",
   "execution_count": 12,
   "id": "c5f8d77a-3534-4253-b0b1-c0ad754fa9ad",
   "metadata": {},
   "outputs": [],
   "source": [
    "data = pd.DataFrame(pd.read_csv('enjoysport.csv'))\n",
    "concepts = np.array(data.iloc[:,:-1])\n",
    "target = np.array(data.iloc[:,-1])"
   ]
  },
  {
   "cell_type": "code",
   "execution_count": 14,
   "id": "f927e185-7913-460f-a37f-297339d7fed6",
   "metadata": {},
   "outputs": [
    {
     "data": {
      "text/plain": [
       "array(['yes', 'yes', 'no', 'yes'], dtype=object)"
      ]
     },
     "execution_count": 14,
     "metadata": {},
     "output_type": "execute_result"
    }
   ],
   "source": [
    "target"
   ]
  },
  {
   "cell_type": "code",
   "execution_count": 15,
   "id": "a30a842d-a667-477a-adb4-1c3a5af40977",
   "metadata": {},
   "outputs": [
    {
     "data": {
      "text/plain": [
       "array([['sunny', 'warm', 'normal', 'strong', 'warm', 'same'],\n",
       "       ['sunny', 'warm', 'high', 'strong', 'warm', 'same'],\n",
       "       ['rainy', 'cold', 'high', 'strong', 'warm', 'change'],\n",
       "       ['sunny', 'warm', 'high', 'strong', 'cool', 'change']],\n",
       "      dtype=object)"
      ]
     },
     "execution_count": 15,
     "metadata": {},
     "output_type": "execute_result"
    }
   ],
   "source": [
    "concepts"
   ]
  },
  {
   "cell_type": "code",
   "execution_count": 18,
   "id": "0c827b4f-52a5-4dac-a0ee-29f74f0ee2bd",
   "metadata": {},
   "outputs": [],
   "source": [
    "def learn(concepts, target):\n",
    "    specific_h = concepts[0].copy()\n",
    "    general_h = [[\"?\" for i in range(len(specific_h))] for i in range(len(specific_h))]\n",
    "\n",
    "    for i, h in enumerate(concepts):                \n",
    "        if target[i] == \"yes\":\n",
    "            for x in range(len(specific_h)):\n",
    "                if h[x] != specific_h[x]:\n",
    "                    specific_h[x] = '?'\n",
    "                    general_h[x][x] = '?'\n",
    "            print(\" \\n\\nFor Training instance No:{0} the hypothesis is\\n\".format(i))\n",
    "            print(\"Specific Hypothesis: \",specific_h)\n",
    "            print(\"General Hypothesis: \",general_h,)\n",
    "        if target[i] == \"no\":            \n",
    "            for x in range(len(specific_h)):\n",
    "                if h[x] != specific_h[x]:\n",
    "                    general_h[x][x] = specific_h[x]\n",
    "                else:\n",
    "                    general_h[x][x] = '?'\n",
    "            print(\" \\n\\nFor Training instance No:{0} the hypothesis is\\n\".format(i))\n",
    "            print(\"Specific Hypothesis: \", specific_h)\n",
    "            print(\"General Hypothesis: \",general_h,)\n",
    "    indices = [i for i,val in enumerate(general_h) if val == ['?', '?', '?', '?', '?', '?']]\n",
    "\n",
    "    for i in indices:\n",
    "        general_h.remove(['?', '?', '?', '?', '?', '?'])\n",
    "        return specific_h, general_h"
   ]
  },
  {
   "cell_type": "code",
   "execution_count": 19,
   "id": "dfb7c335-91ef-43d1-89a7-a36a0ed73ee3",
   "metadata": {},
   "outputs": [
    {
     "name": "stdout",
     "output_type": "stream",
     "text": [
      "******************** Costumer Elimination Algorithm ********************\n",
      " \n",
      "\n",
      "For Training instance No:0 the hypothesis is\n",
      "\n",
      "Specific Hypothesis:  ['sunny' 'warm' 'normal' 'strong' 'warm' 'same']\n",
      "General Hypothesis:  [['?', '?', '?', '?', '?', '?'], ['?', '?', '?', '?', '?', '?'], ['?', '?', '?', '?', '?', '?'], ['?', '?', '?', '?', '?', '?'], ['?', '?', '?', '?', '?', '?'], ['?', '?', '?', '?', '?', '?']]\n",
      " \n",
      "\n",
      "For Training instance No:1 the hypothesis is\n",
      "\n",
      "Specific Hypothesis:  ['sunny' 'warm' '?' 'strong' 'warm' 'same']\n",
      "General Hypothesis:  [['?', '?', '?', '?', '?', '?'], ['?', '?', '?', '?', '?', '?'], ['?', '?', '?', '?', '?', '?'], ['?', '?', '?', '?', '?', '?'], ['?', '?', '?', '?', '?', '?'], ['?', '?', '?', '?', '?', '?']]\n",
      " \n",
      "\n",
      "For Training instance No:2 the hypothesis is\n",
      "\n",
      "Specific Hypothesis:  ['sunny' 'warm' '?' 'strong' 'warm' 'same']\n",
      "General Hypothesis:  [['sunny', '?', '?', '?', '?', '?'], ['?', 'warm', '?', '?', '?', '?'], ['?', '?', '?', '?', '?', '?'], ['?', '?', '?', '?', '?', '?'], ['?', '?', '?', '?', '?', '?'], ['?', '?', '?', '?', '?', 'same']]\n",
      " \n",
      "\n",
      "For Training instance No:3 the hypothesis is\n",
      "\n",
      "Specific Hypothesis:  ['sunny' 'warm' '?' 'strong' '?' '?']\n",
      "General Hypothesis:  [['sunny', '?', '?', '?', '?', '?'], ['?', 'warm', '?', '?', '?', '?'], ['?', '?', '?', '?', '?', '?'], ['?', '?', '?', '?', '?', '?'], ['?', '?', '?', '?', '?', '?'], ['?', '?', '?', '?', '?', '?']]\n",
      "Final Specific hypothesis: ['sunny' 'warm' '?' 'strong' '?' '?']\n",
      "Final General hypothesis: [['sunny', '?', '?', '?', '?', '?'], ['?', 'warm', '?', '?', '?', '?'], ['?', '?', '?', '?', '?', '?'], ['?', '?', '?', '?', '?', '?'], ['?', '?', '?', '?', '?', '?']]\n"
     ]
    }
   ],
   "source": [
    "print(\"*\"*20,\"Costumer Elimination Algorithm\",\"*\"*20)\n",
    "s_final, g_final = learn(concepts, target)\n",
    "print(\"Final Specific hypothesis:\", s_final)\n",
    "print(\"Final General hypothesis:\", g_final)"
   ]
  },
  {
   "cell_type": "code",
   "execution_count": null,
   "id": "7c5ababa-4271-4f8e-a155-1c2abe0608aa",
   "metadata": {},
   "outputs": [],
   "source": []
  }
 ],
 "metadata": {
  "kernelspec": {
   "display_name": "Python 3 (ipykernel)",
   "language": "python",
   "name": "python3"
  },
  "language_info": {
   "codemirror_mode": {
    "name": "ipython",
    "version": 3
   },
   "file_extension": ".py",
   "mimetype": "text/x-python",
   "name": "python",
   "nbconvert_exporter": "python",
   "pygments_lexer": "ipython3",
   "version": "3.9.13"
  }
 },
 "nbformat": 4,
 "nbformat_minor": 5
}
